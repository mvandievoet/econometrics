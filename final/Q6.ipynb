{
 "cells": [
  {
   "cell_type": "code",
   "execution_count": 2,
   "metadata": {},
   "outputs": [],
   "source": [
    "import csv\n",
    "\n",
    "# read flash.dat to a list of lists\n",
    "datContent = [i.strip().split() for i in open(\"q6.dat\").readlines()]\n",
    "\n",
    "# write it as a new CSV file\n",
    "with open(\"q6.csv\", \"w\") as f:\n",
    "    writer = csv.writer(f)\n",
    "    writer.writerows(datContent)"
   ]
  },
  {
   "cell_type": "code",
   "execution_count": 5,
   "metadata": {},
   "outputs": [],
   "source": [
    "import pandas as pd\n",
    "df = pd.read_csv('q6.csv')"
   ]
  },
  {
   "cell_type": "code",
   "execution_count": 90,
   "metadata": {},
   "outputs": [
    {
     "data": {
      "text/html": [
       "<table class=\"simpletable\">\n",
       "<caption>OLS Regression Results</caption>\n",
       "<tr>\n",
       "  <th>Dep. Variable:</th>            <td>y</td>        <th>  R-squared:         </th> <td>   0.016</td> \n",
       "</tr>\n",
       "<tr>\n",
       "  <th>Model:</th>                   <td>OLS</td>       <th>  Adj. R-squared:    </th> <td>   0.016</td> \n",
       "</tr>\n",
       "<tr>\n",
       "  <th>Method:</th>             <td>Least Squares</td>  <th>  F-statistic:       </th> <td>   34.98</td> \n",
       "</tr>\n",
       "<tr>\n",
       "  <th>Date:</th>             <td>Sat, 12 Dec 2020</td> <th>  Prob (F-statistic):</th> <td>8.52e-16</td> \n",
       "</tr>\n",
       "<tr>\n",
       "  <th>Time:</th>                 <td>02:48:08</td>     <th>  Log-Likelihood:    </th> <td> -47231.</td> \n",
       "</tr>\n",
       "<tr>\n",
       "  <th>No. Observations:</th>      <td>  4266</td>      <th>  AIC:               </th> <td>9.447e+04</td>\n",
       "</tr>\n",
       "<tr>\n",
       "  <th>Df Residuals:</th>          <td>  4263</td>      <th>  BIC:               </th> <td>9.449e+04</td>\n",
       "</tr>\n",
       "<tr>\n",
       "  <th>Df Model:</th>              <td>     2</td>      <th>                     </th>     <td> </td>    \n",
       "</tr>\n",
       "<tr>\n",
       "  <th>Covariance Type:</th>      <td>nonrobust</td>    <th>                     </th>     <td> </td>    \n",
       "</tr>\n",
       "</table>\n",
       "<table class=\"simpletable\">\n",
       "<tr>\n",
       "   <td></td>     <th>coef</th>     <th>std err</th>      <th>t</th>      <th>P>|t|</th>  <th>[0.025</th>    <th>0.975]</th>  \n",
       "</tr>\n",
       "<tr>\n",
       "  <th>d1</th> <td> 2.288e+04</td> <td>  467.450</td> <td>   48.947</td> <td> 0.000</td> <td>  2.2e+04</td> <td> 2.38e+04</td>\n",
       "</tr>\n",
       "<tr>\n",
       "  <th>d2</th> <td> 2.508e+04</td> <td>  380.019</td> <td>   65.997</td> <td> 0.000</td> <td> 2.43e+04</td> <td> 2.58e+04</td>\n",
       "</tr>\n",
       "<tr>\n",
       "  <th>d3</th> <td> 2.797e+04</td> <td>  404.778</td> <td>   69.109</td> <td> 0.000</td> <td> 2.72e+04</td> <td> 2.88e+04</td>\n",
       "</tr>\n",
       "</table>\n",
       "<table class=\"simpletable\">\n",
       "<tr>\n",
       "  <th>Omnibus:</th>       <td>683.592</td> <th>  Durbin-Watson:     </th> <td>   0.013</td> \n",
       "</tr>\n",
       "<tr>\n",
       "  <th>Prob(Omnibus):</th> <td> 0.000</td>  <th>  Jarque-Bera (JB):  </th> <td>1122.887</td> \n",
       "</tr>\n",
       "<tr>\n",
       "  <th>Skew:</th>          <td> 1.074</td>  <th>  Prob(JB):          </th> <td>1.47e-244</td>\n",
       "</tr>\n",
       "<tr>\n",
       "  <th>Kurtosis:</th>      <td> 4.306</td>  <th>  Cond. No.          </th> <td>    1.23</td> \n",
       "</tr>\n",
       "</table><br/><br/>Notes:<br/>[1] Standard Errors assume that the covariance matrix of the errors is correctly specified."
      ],
      "text/plain": [
       "<class 'statsmodels.iolib.summary.Summary'>\n",
       "\"\"\"\n",
       "                            OLS Regression Results                            \n",
       "==============================================================================\n",
       "Dep. Variable:                      y   R-squared:                       0.016\n",
       "Model:                            OLS   Adj. R-squared:                  0.016\n",
       "Method:                 Least Squares   F-statistic:                     34.98\n",
       "Date:                Sat, 12 Dec 2020   Prob (F-statistic):           8.52e-16\n",
       "Time:                        02:48:08   Log-Likelihood:                -47231.\n",
       "No. Observations:                4266   AIC:                         9.447e+04\n",
       "Df Residuals:                    4263   BIC:                         9.449e+04\n",
       "Df Model:                           2                                         \n",
       "Covariance Type:            nonrobust                                         \n",
       "==============================================================================\n",
       "                 coef    std err          t      P>|t|      [0.025      0.975]\n",
       "------------------------------------------------------------------------------\n",
       "d1          2.288e+04    467.450     48.947      0.000     2.2e+04    2.38e+04\n",
       "d2          2.508e+04    380.019     65.997      0.000    2.43e+04    2.58e+04\n",
       "d3          2.797e+04    404.778     69.109      0.000    2.72e+04    2.88e+04\n",
       "==============================================================================\n",
       "Omnibus:                      683.592   Durbin-Watson:                   0.013\n",
       "Prob(Omnibus):                  0.000   Jarque-Bera (JB):             1122.887\n",
       "Skew:                           1.074   Prob(JB):                    1.47e-244\n",
       "Kurtosis:                       4.306   Cond. No.                         1.23\n",
       "==============================================================================\n",
       "\n",
       "Notes:\n",
       "[1] Standard Errors assume that the covariance matrix of the errors is correctly specified.\n",
       "\"\"\""
      ]
     },
     "execution_count": 90,
     "metadata": {},
     "output_type": "execute_result"
    }
   ],
   "source": [
    "from statsmodels.formula.api import ols\n",
    "fit = ols('y ~ d1 + d2 + d3 -1', data=df).fit()\n",
    "fit.summary()"
   ]
  },
  {
   "cell_type": "code",
   "execution_count": 77,
   "metadata": {},
   "outputs": [
    {
     "data": {
      "text/plain": [
       "(11.720435279954744,\n",
       " 0.002850623205591812,\n",
       " 5.872229932042058,\n",
       " 0.0028394189761031556)"
      ]
     },
     "execution_count": 77,
     "metadata": {},
     "output_type": "execute_result"
    }
   ],
   "source": [
    "## I believe from what I have seen on https://www3.nd.edu/~rwilliam/stats2/l25.pdf het white is equivalent to the nR^2 test\n",
    "import statsmodels.stats.diagnostic as sms\n",
    "test = sms.het_white(fit.resid, fit.model.exog)\n",
    "test"
   ]
  },
  {
   "cell_type": "code",
   "execution_count": 67,
   "metadata": {},
   "outputs": [
    {
     "data": {
      "text/plain": [
       "15566.872946322332"
      ]
     },
     "execution_count": 67,
     "metadata": {},
     "output_type": "execute_result"
    }
   ],
   "source": [
    "import math\n",
    "y_hat = fit.fittedvalues\n",
    "err = df.y - y_hat\n",
    "se = math.sqrt((err ** 2).sum()/4263)\n",
    "se"
   ]
  },
  {
   "cell_type": "code",
   "execution_count": 78,
   "metadata": {},
   "outputs": [],
   "source": [
    "# fit represents the original plot\n",
    "import random\n",
    "\n",
    "def get_new_test():\n",
    "    new_u = []\n",
    "    for i in range(4266):\n",
    "        new_u.append(random.uniform(0,1)*se)\n",
    "    \n",
    "    new_y = []\n",
    "    for i in range(4266):\n",
    "        new_y.append(fit.params[0]*df.d1[i] + fit.params[1]*df.d2[i]+fit.params[2]*df.d3[i]+new_u[i])\n",
    "    \n",
    "    df['new_y'] = pd.Series(new_y)\n",
    "    new_fit = ols('new_y ~ d1 + d2 + d3 -1', data=df).fit()\n",
    "    return sms.het_white(new_fit.resid, new_fit.model.exog)[2]"
   ]
  },
  {
   "cell_type": "code",
   "execution_count": 81,
   "metadata": {},
   "outputs": [],
   "source": [
    "B = 199\n",
    "F_tests = []\n",
    "for i in range(B):\n",
    "    F_tests.append(get_new_test())"
   ]
  },
  {
   "cell_type": "code",
   "execution_count": 91,
   "metadata": {},
   "outputs": [
    {
     "data": {
      "text/plain": [
       "0.24623115577889448"
      ]
     },
     "execution_count": 91,
     "metadata": {},
     "output_type": "execute_result"
    }
   ],
   "source": [
    "# caculate the p value\n",
    "b_p_value = 0\n",
    "for i in range(49):\n",
    "    if F_tests[i]<test[2]:\n",
    "        b_p_value += 1\n",
    "\n",
    "if b_p_value/B > 0.5:\n",
    "    b_p_value = 1-(b_p_value/B)\n",
    "else:\n",
    "    b_p_value = b_p_value/B\n",
    "    \n",
    "b_p_value"
   ]
  },
  {
   "cell_type": "code",
   "execution_count": null,
   "metadata": {},
   "outputs": [],
   "source": []
  }
 ],
 "metadata": {
  "kernelspec": {
   "display_name": "Python 3",
   "language": "python",
   "name": "python3"
  },
  "language_info": {
   "codemirror_mode": {
    "name": "ipython",
    "version": 3
   },
   "file_extension": ".py",
   "mimetype": "text/x-python",
   "name": "python",
   "nbconvert_exporter": "python",
   "pygments_lexer": "ipython3",
   "version": "3.8.3"
  }
 },
 "nbformat": 4,
 "nbformat_minor": 4
}
