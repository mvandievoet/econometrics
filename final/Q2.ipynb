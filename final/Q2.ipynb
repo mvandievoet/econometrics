{
 "cells": [
  {
   "cell_type": "code",
   "execution_count": 1,
   "metadata": {},
   "outputs": [],
   "source": [
    "import numpy as np\n",
    "import math\n",
    "\n",
    "mean = (0, 0)\n",
    "cov = [[1, 0.5], [0.5, 1]]\n",
    "u_v = np.random.multivariate_normal(mean, cov, (1000, 10))"
   ]
  },
  {
   "cell_type": "code",
   "execution_count": 2,
   "metadata": {},
   "outputs": [],
   "source": [
    "u = np.empty((1000,10))\n",
    "v = np.empty((1000,10))\n",
    "for i in range(1000):\n",
    "    for j in range(10):\n",
    "        u[i][j] = u_v[i][j][0]\n",
    "        v[i][j] = u_v[i][j][1]"
   ]
  },
  {
   "cell_type": "code",
   "execution_count": 3,
   "metadata": {},
   "outputs": [],
   "source": [
    "# create and rescale w\n",
    "w = np.random.normal(0, 1, (1000, 10))\n",
    "for i in range(1000):\n",
    "    a = w[i].T.dot(w[i])\n",
    "    w[i] = w[i]*math.sqrt(10)/math.sqrt(a)"
   ]
  },
  {
   "cell_type": "code",
   "execution_count": 4,
   "metadata": {},
   "outputs": [],
   "source": [
    "x = np.empty((1000,10))\n",
    "y = np.empty((1000,10))\n",
    "for i in range(1000):\n",
    "    x[i] = w[i] + v[i]\n",
    "    y[i] = u[i]"
   ]
  },
  {
   "cell_type": "code",
   "execution_count": 5,
   "metadata": {},
   "outputs": [],
   "source": [
    "beta_hat = np.empty(1000)\n",
    "for i in range(1000):\n",
    "    b = (w[i].T.dot(y[i]))/(w[i].T.dot(x[i]))\n",
    "    beta_hat[i] = b"
   ]
  },
  {
   "cell_type": "code",
   "execution_count": 12,
   "metadata": {},
   "outputs": [
    {
     "data": {
      "image/png": "[encoded data removed]",
      "text/plain": [
       "<Figure size 432x288 with 1 Axes>"
      ]
     },
     "metadata": {
      "needs_background": "light"
     },
     "output_type": "display_data"
    }
   ],
   "source": [
    "from matplotlib import pyplot\n",
    "import statsmodels.distributions.empirical_distribution as st\n",
    "import scipy.stats as stats\n",
    "ecdf = st.ECDF(beta_hat)\n",
    "pyplot.plot(ecdf.x, ecdf.y)\n",
    "pyplot.xlim([-5, 5])\n",
    "\n",
    "x1 = np.linspace(-5, 5, 5000)\n",
    "pyplot.plot(x1, stats.norm.cdf(x1, 0, 1/10))\n",
    "\n",
    "pyplot.show()"
   ]
  },
  {
   "cell_type": "code",
   "execution_count": 7,
   "metadata": {},
   "outputs": [],
   "source": [
    "import pandas as pd\n",
    "from statsmodels.formula.api import ols\n",
    "df = pd.DataFrame(data={'y': y[0], 'x': x[0]})\n",
    "betas = []\n",
    "for i in range(1000):\n",
    "    df.y = y[i]\n",
    "    df.x = x[i]\n",
    "    fit = ols('y ~ x -1', data=df).fit()\n",
    "    betas.append(fit.params[0])"
   ]
  },
  {
   "cell_type": "code",
   "execution_count": 8,
   "metadata": {},
   "outputs": [],
   "source": [
    "betas = np.array(betas)"
   ]
  },
  {
   "cell_type": "code",
   "execution_count": 14,
   "metadata": {},
   "outputs": [
    {
     "data": {
      "image/png": "[encoded data removed]",
      "text/plain": [
       "<Figure size 432x288 with 1 Axes>"
      ]
     },
     "metadata": {
      "needs_background": "light"
     },
     "output_type": "display_data"
    }
   ],
   "source": [
    "# IV estimator dirstibution\n",
    "ecdf1 = st.ECDF(beta_hat)\n",
    "# regular OLS esimator distribution \n",
    "ecdf2 = st.ECDF(betas)\n",
    "\n",
    "pyplot.plot(ecdf1.x, ecdf1.y)\n",
    "pyplot.plot(ecdf2.x, ecdf2.y)\n",
    "pyplot.xlim([-2, 2])\n",
    "\n",
    "pyplot.show()"
   ]
  },
  {
   "cell_type": "code",
   "execution_count": 10,
   "metadata": {},
   "outputs": [],
   "source": [
    "# create s and rescale\n",
    "s = np.random.normal(0, 1, (1000, 10))\n",
    "for i in range(1000):\n",
    "    a = s[i].T.dot(s[i])\n",
    "    s[i] = s[i]*math.sqrt(10)/math.sqrt(a)"
   ]
  },
  {
   "cell_type": "code",
   "execution_count": null,
   "metadata": {},
   "outputs": [],
   "source": []
  },
  {
   "cell_type": "code",
   "execution_count": null,
   "metadata": {},
   "outputs": [],
   "source": []
  }
 ],
 "metadata": {
  "kernelspec": {
   "display_name": "Python 3",
   "language": "python",
   "name": "python3"
  },
  "language_info": {
   "codemirror_mode": {
    "name": "ipython",
    "version": 3
   },
   "file_extension": ".py",
   "mimetype": "text/x-python",
   "name": "python",
   "nbconvert_exporter": "python",
   "pygments_lexer": "ipython3",
   "version": "3.8.3"
  }
 },
 "nbformat": 4,
 "nbformat_minor": 4
}
