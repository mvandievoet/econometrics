{
 "cells": [
  {
   "cell_type": "code",
   "execution_count": 64,
   "metadata": {},
   "outputs": [],
   "source": [
    "## ECON 468: ASSIGNMENT 2 BY MAXENCE VAN DIEVOET"
   ]
  },
  {
   "cell_type": "code",
   "execution_count": 1,
   "metadata": {},
   "outputs": [],
   "source": [
    "# the OLS plot \n",
    "### CODE ###\n",
    "import pandas as pd\n",
    "from statsmodels.formula.api import ols\n",
    "import numpy as np\n",
    "from statsmodels.stats.sandwich_covariance import cov_hac\n",
    "from math import sqrt\n",
    "\n",
    "df = pd.read_csv('hw2_data.csv')\n",
    "\n",
    "print(\"### RESULTS ###\")\n",
    "fit1 = ols('y ~ x1 + x2 + x3', data=df).fit()\n",
    "fit1.summary()"
   ]
  },
  {
   "cell_type": "code",
   "execution_count": 49,
   "metadata": {},
   "outputs": [
    {
     "data": {
      "text/html": [
       "<div>\n",
       "<style scoped>\n",
       "    .dataframe tbody tr th:only-of-type {\n",
       "        vertical-align: middle;\n",
       "    }\n",
       "\n",
       "    .dataframe tbody tr th {\n",
       "        vertical-align: top;\n",
       "    }\n",
       "\n",
       "    .dataframe thead th {\n",
       "        text-align: right;\n",
       "    }\n",
       "</style>\n",
       "<table border=\"1\" class=\"dataframe\">\n",
       "  <thead>\n",
       "    <tr style=\"text-align: right;\">\n",
       "      <th></th>\n",
       "      <th>Intercept</th>\n",
       "      <th>x1</th>\n",
       "      <th>x2</th>\n",
       "      <th>x3</th>\n",
       "    </tr>\n",
       "  </thead>\n",
       "  <tbody>\n",
       "    <tr>\n",
       "      <th>Intercept</th>\n",
       "      <td>13741.298915</td>\n",
       "      <td>-114.577856</td>\n",
       "      <td>8.044441</td>\n",
       "      <td>67.676030</td>\n",
       "    </tr>\n",
       "    <tr>\n",
       "      <th>x1</th>\n",
       "      <td>-114.577856</td>\n",
       "      <td>1.109477</td>\n",
       "      <td>-0.164874</td>\n",
       "      <td>-0.422071</td>\n",
       "    </tr>\n",
       "    <tr>\n",
       "      <th>x2</th>\n",
       "      <td>8.044441</td>\n",
       "      <td>-0.164874</td>\n",
       "      <td>0.834828</td>\n",
       "      <td>-0.016892</td>\n",
       "    </tr>\n",
       "    <tr>\n",
       "      <th>x3</th>\n",
       "      <td>67.676030</td>\n",
       "      <td>-0.422071</td>\n",
       "      <td>-0.016892</td>\n",
       "      <td>0.574773</td>\n",
       "    </tr>\n",
       "  </tbody>\n",
       "</table>\n",
       "</div>"
      ],
      "text/plain": [
       "              Intercept          x1        x2         x3\n",
       "Intercept  13741.298915 -114.577856  8.044441  67.676030\n",
       "x1          -114.577856    1.109477 -0.164874  -0.422071\n",
       "x2             8.044441   -0.164874  0.834828  -0.016892\n",
       "x3            67.676030   -0.422071 -0.016892   0.574773"
      ]
     },
     "execution_count": 49,
     "metadata": {},
     "output_type": "execute_result"
    }
   ],
   "source": [
    "# the standard OLS estimate\n",
    "fit1.cov_params()"
   ]
  },
  {
   "cell_type": "code",
   "execution_count": 68,
   "metadata": {},
   "outputs": [
    {
     "name": "stdout",
     "output_type": "stream",
     "text": [
      "### RESULTS ###\n",
      "HC0\n",
      "[[ 1.24530797e+04 -9.57197205e+01 -3.72882783e+00  8.31958443e+01]\n",
      " [-9.57197205e+01  8.66960180e-01  6.63431413e-02 -4.32988909e-01]\n",
      " [-3.72882783e+00  6.63431413e-02  5.68223212e-01  1.48052795e-01]\n",
      " [ 8.31958443e+01 -4.32988909e-01  1.48052795e-01  1.03751374e+00]]\n",
      "\n",
      "HC1\n",
      "[[ 1.29719580e+04 -9.97080422e+01 -3.88419566e+00  8.66623378e+01]\n",
      " [-9.97080422e+01  9.03083521e-01  6.91074389e-02 -4.51030114e-01]\n",
      " [-3.88419566e+00  6.91074389e-02  5.91899179e-01  1.54221662e-01]\n",
      " [ 8.66623378e+01 -4.51030114e-01  1.54221662e-01  1.08074348e+00]]\n",
      "\n",
      "HC2\n",
      "[[ 1.31512097e+04 -1.00699376e+02 -3.45217061e+00  8.87534625e+01]\n",
      " [-1.00699376e+02  9.11276205e-01  7.00157549e-02 -4.56216877e-01]\n",
      " [-3.45217061e+00  7.00157549e-02  6.06033330e-01  1.68856411e-01]\n",
      " [ 8.87534625e+01 -4.56216877e-01  1.68856411e-01  1.11947925e+00]]\n",
      "\n",
      "HC3\n",
      "[[ 1.38970463e+04 -1.05998019e+02 -3.11952648e+00  9.47429613e+01]\n",
      " [-1.05998019e+02  9.58431782e-01  7.39758838e-02 -4.80899607e-01]\n",
      " [-3.11952648e+00  7.39758838e-02  6.46927965e-01  1.92074060e-01]\n",
      " [ 9.47429613e+01 -4.80899607e-01  1.92074060e-01  1.20863960e+00]]\n"
     ]
    }
   ],
   "source": [
    "### CODE ###\n",
    "# the four HCCMEs\n",
    "print(\"### RESULTS ###\")\n",
    "print(\"HC0\")\n",
    "fit1.HC0_se\n",
    "print(fit1.cov_HC0)\n",
    "print(\"\\nHC1\")\n",
    "fit1.HC1_se\n",
    "print(fit1.cov_HC1)\n",
    "print(\"\\nHC2\")\n",
    "fit1.HC2_se\n",
    "print(fit1.cov_HC2)\n",
    "print(\"\\nHC3\")\n",
    "fit1.HC3_se\n",
    "print(fit1.cov_HC3)"
   ]
  },
  {
   "cell_type": "code",
   "execution_count": 66,
   "metadata": {
    "scrolled": true
   },
   "outputs": [
    {
     "name": "stdout",
     "output_type": "stream",
     "text": [
      "### RESULTS ###\n",
      "truncation parameter = 2\n",
      "[[ 1.66155308e+04 -1.27090898e+02 -2.19849570e+01  1.08181107e+02]\n",
      " [-1.27090898e+02  1.12705382e+00  2.16322458e-01 -6.14032582e-01]\n",
      " [-2.19849570e+01  2.16322458e-01  5.03102095e-01  2.16873164e-02]\n",
      " [ 1.08181107e+02 -6.14032582e-01  2.16873164e-02  1.20792381e+00]]\n",
      "\n",
      "truncation parameter = 3\n",
      "[[ 1.82549857e+04 -1.40379553e+02 -2.24258045e+01  1.18612937e+02]\n",
      " [-1.40379553e+02  1.24241624e+00  2.12836466e-01 -7.02001338e-01]\n",
      " [-2.24258045e+01  2.12836466e-01  4.48497779e-01 -1.07063033e-02]\n",
      " [ 1.18612937e+02 -7.02001338e-01 -1.07063033e-02  1.25758658e+00]]\n",
      "\n",
      "truncation parameter = 4\n",
      "[[ 1.95904413e+04 -1.51793866e+02 -2.51455255e+01  1.26612076e+02]\n",
      " [-1.51793866e+02  1.34053854e+00  2.38781028e-01 -7.79948231e-01]\n",
      " [-2.51455255e+01  2.38781028e-01  4.24753598e-01 -3.06049066e-02]\n",
      " [ 1.26612076e+02 -7.79948231e-01 -3.06049066e-02  1.28779739e+00]]\n",
      "\n",
      "truncation parameter = 5\n",
      "[[ 2.02427688e+04 -1.59275506e+02 -2.71667575e+01  1.28096632e+02]\n",
      " [-1.59275506e+02  1.41294766e+00  2.57682619e-01 -8.22322268e-01]\n",
      " [-2.71667575e+01  2.57682619e-01  4.06816174e-01 -4.65631217e-02]\n",
      " [ 1.28096632e+02 -8.22322268e-01 -4.65631217e-02  1.25931674e+00]]\n",
      "\n",
      "truncation parameter = 6\n",
      "[[ 2.04028324e+04 -1.63448954e+02 -2.65417084e+01  1.27415956e+02]\n",
      " [-1.63448954e+02  1.46176561e+00  2.59493101e-01 -8.50337143e-01]\n",
      " [-2.65417084e+01  2.59493101e-01  4.05751290e-01 -4.22300758e-02]\n",
      " [ 1.27415956e+02 -8.50337143e-01 -4.22300758e-02  1.22650486e+00]]\n",
      "\n",
      "truncation parameter = 20\n",
      "[[ 2.55068777e+04 -2.19133527e+02 -2.54346175e+01  1.68422407e+02]\n",
      " [-2.19133527e+02  1.96809071e+00  3.08807110e-01 -1.32299453e+00]\n",
      " [-2.54346175e+01  3.08807110e-01  3.06563127e-01 -6.89513355e-02]\n",
      " [ 1.68422407e+02 -1.32299453e+00 -6.89513355e-02  1.46844755e+00]]\n"
     ]
    }
   ],
   "source": [
    "### CODE ###\n",
    "# the six versions of the Newey-West HAC estimator\n",
    "print(\"### RESULTS ###\")\n",
    "print(\"truncation parameter = 2\")\n",
    "print(cov_hac(fit1, nlags=2))\n",
    "print(\"\\ntruncation parameter = 3\")\n",
    "print(cov_hac(fit1, nlags=3))\n",
    "print(\"\\ntruncation parameter = 4\")\n",
    "print(cov_hac(fit1, nlags=4))\n",
    "print(\"\\ntruncation parameter = 5\")\n",
    "print(cov_hac(fit1, nlags=5))\n",
    "print(\"\\ntruncation parameter = 6\")\n",
    "print(cov_hac(fit1, nlags=6))\n",
    "print(\"\\ntruncation parameter = 20\")\n",
    "print(cov_hac(fit1, nlags=20))"
   ]
  },
  {
   "cell_type": "code",
   "execution_count": 72,
   "metadata": {},
   "outputs": [
    {
     "name": "stdout",
     "output_type": "stream",
     "text": [
      "### RESULTS ###\n",
      "estimate 1: 0.7581378502620747\n",
      "the four HCCMEs\n",
      "estimate 2: 1.0185841840515688\n",
      "estimate 3: 1.039588129982254\n",
      "estimate 4: 1.0580544645716494\n",
      "estimate 5: 1.099381462459687\n",
      "the six Newey_west HACs\n",
      "estimate 6: 1.0990558721011412\n",
      "estimate 7: 1.121421678049787\n",
      "estimate 8: 1.1348116099159367\n",
      "estimate 9: 1.1221928265676981\n",
      "estimate 10: 1.1074767988540437\n",
      "estimate 11: 1.2117951765871986\n"
     ]
    }
   ],
   "source": [
    "# using the fact that the covariance of an element with itself is the variance of an element\n",
    "# Cov(x3,x3)=Var(x3), we get those 11 estimates taking the square root of the (3,3) element of this 4x4 array\n",
    "\n",
    "### CODE ###\n",
    "estimate1 = sqrt(0.574773)\n",
    "# using the four HCCMEs\n",
    "estimate2 = sqrt(1.03751374)\n",
    "estimate3 = sqrt(1.08074348)\n",
    "estimate4 = sqrt(1.11947925)\n",
    "estimate5 = sqrt(1.20863960)\n",
    "# using the Newey-West HAC estimator\n",
    "estimate6 = sqrt(1.20792381)\n",
    "estimate7 = sqrt(1.25758658)\n",
    "estimate8 = sqrt(1.28779739)\n",
    "estimate9 = sqrt(1.25931674)\n",
    "estimate10 = sqrt(1.22650486)\n",
    "estimate11 = sqrt(1.46844755)\n",
    "print(\"### RESULTS ###\")\n",
    "print(\"estimate 1:\",estimate1)\n",
    "print(\"the four HCCMEs\")\n",
    "print(\"estimate 2:\",estimate2)\n",
    "print(\"estimate 3:\",estimate3)\n",
    "print(\"estimate 4:\",estimate4)\n",
    "print(\"estimate 5:\",estimate5)\n",
    "print(\"the six Newey_west HACs\")\n",
    "print(\"estimate 6:\",estimate6)\n",
    "print(\"estimate 7:\",estimate7)\n",
    "print(\"estimate 8:\",estimate8)\n",
    "print(\"estimate 9:\",estimate9)\n",
    "print(\"estimate 10:\",estimate10)\n",
    "print(\"estimate 11:\",estimate11)"
   ]
  }
 ],
 "metadata": {
  "kernelspec": {
   "display_name": "Python 3",
   "language": "python",
   "name": "python3"
  },
  "language_info": {
   "codemirror_mode": {
    "name": "ipython",
    "version": 3
   },
   "file_extension": ".py",
   "mimetype": "text/x-python",
   "name": "python",
   "nbconvert_exporter": "python",
   "pygments_lexer": "ipython3",
   "version": "3.8.3"
  }
 },
 "nbformat": 4,
 "nbformat_minor": 4
}
